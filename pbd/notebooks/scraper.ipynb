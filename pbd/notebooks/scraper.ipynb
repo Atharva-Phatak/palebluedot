{
 "cells": [
  {
   "cell_type": "code",
   "execution_count": 1,
   "id": "35080b54-0c38-48f2-aeaa-c23b18caa1d5",
   "metadata": {},
   "outputs": [],
   "source": [
    "from bs4 import BeautifulSoup\n",
    "import requests\n",
    "from urllib.request import urlretrieve"
   ]
  },
  {
   "cell_type": "code",
   "execution_count": 6,
   "id": "31556864-41d6-456d-8f90-5d022c61b6d1",
   "metadata": {},
   "outputs": [],
   "source": [
    "def get_libgen_url(book_name:str):\n",
    "    url = f\"https://libgen.is/search.php?&res=100&req={book_name}&phrase=1&view=simple&column=def&sort=year&sortmode=DESC\"\n",
    "    return url"
   ]
  },
  {
   "cell_type": "code",
   "execution_count": 12,
   "id": "fcbe1168-1cb9-4c57-9cc3-83fe3e622e43",
   "metadata": {},
   "outputs": [],
   "source": [
    "def extract_pdf_links(html_content):\n",
    "    \"\"\"\n",
    "    Extract download links for PDF versions of books from HTML table.\n",
    "    \n",
    "    Args:\n",
    "        html_content (str): HTML content containing the book table\n",
    "        \n",
    "    Returns:\n",
    "        list: List of dictionaries containing book title, extension, and download links\n",
    "    \"\"\"\n",
    "    # Parse the HTML\n",
    "    soup = BeautifulSoup(html_content, 'html.parser')\n",
    "    \n",
    "    # Find all rows in the table\n",
    "    rows = soup.find_all('tr', bgcolor=True)  # Using bgcolor attribute to find data rows\n",
    "    \n",
    "    # Store PDF links\n",
    "    pdf_links = []\n",
    "    \n",
    "    # Process each row\n",
    "    for row in rows:\n",
    "        # Extract file extension\n",
    "        extension_cell = row.find_all('td')[8]  # 9th column has the extension\n",
    "        extension = extension_cell.text.strip()\n",
    "        \n",
    "        # Only process PDF files\n",
    "        if extension == 'pdf':\n",
    "            # Extract book title\n",
    "            title_cell = row.find_all('td')[2]\n",
    "            title = title_cell.text.strip()\n",
    "            \n",
    "            # Extract download links\n",
    "            link_cells = row.find_all('td')[9:11]  # 10th and 11th columns have the download links\n",
    "            links = []\n",
    "            for link_cell in link_cells:\n",
    "                a_tag = link_cell.find('a')\n",
    "                if a_tag and 'href' in a_tag.attrs and \"books.ms\" in a_tag['href']:\n",
    "                    links.append(a_tag['href'])\n",
    "                    break\n",
    "            \n",
    "            # Add to our results\n",
    "            pdf_links.append({\n",
    "                'title': title,\n",
    "                'extension': extension,\n",
    "                'links': links\n",
    "            })\n",
    "    \n",
    "    return pdf_links"
   ]
  },
  {
   "cell_type": "code",
   "execution_count": null,
   "id": "edb0e6d3-a2c2-4dba-9e43-5574dd37a9f7",
   "metadata": {},
   "outputs": [],
   "source": [
    "def download_books(books_to_download:list):\n",
    "    for book in books_to_download:\n",
    "        html = requests.get(book.link)\n",
    "        soup = BeautifulSoup(html_content, 'html.parser')\n",
    "        download_link = soup.find(\"a\", string=\"GET\")[\"href\"]\n",
    "        urlretrieve(get_link, book.title + \".pdf\")\n",
    "        \n",
    "        "
   ]
  },
  {
   "cell_type": "code",
   "execution_count": 7,
   "id": "272aa414-df0b-473b-9e8d-f23b923de8bd",
   "metadata": {},
   "outputs": [],
   "source": [
    "url = get_libgen_url(book_name = \"physics_of_the_impossible\")"
   ]
  },
  {
   "cell_type": "code",
   "execution_count": 8,
   "id": "55fe22b4-65ea-48d5-9d7d-4f2b2a66fd47",
   "metadata": {},
   "outputs": [
    {
     "data": {
      "text/plain": [
       "'https://libgen.is/search.php?req=physics_of_the_impossible&lg_topic=libgen&open=0&view=simple&res=100&phrase=1&column=def'"
      ]
     },
     "execution_count": 8,
     "metadata": {},
     "output_type": "execute_result"
    }
   ],
   "source": []
  },
  {
   "cell_type": "code",
   "execution_count": 13,
   "id": "c3aa8afe-c6da-4af2-9804-f75a475ac746",
   "metadata": {},
   "outputs": [],
   "source": [
    "search_page = requests.get(url)"
   ]
  },
  {
   "cell_type": "code",
   "execution_count": 14,
   "id": "0377a47e-0ac2-4ef9-8776-6ab556c1edae",
   "metadata": {},
   "outputs": [],
   "source": [
    "links = extract_pdf_links(search_page.content)"
   ]
  },
  {
   "cell_type": "code",
   "execution_count": 15,
   "id": "0ceca0cf-2a7c-4fcb-bc76-8a383d537941",
   "metadata": {},
   "outputs": [
    {
     "data": {
      "text/plain": [
       "[{'title': 'Physics of the impossible [1\\xa0ed.] 9780385520690, 0385520697',\n",
       "  'extension': 'pdf',\n",
       "  'links': ['http://books.ms/main/18030181E6D4F40D8FED29D77979FA04',\n",
       "   'http://libgen.li/ads.php?md5=18030181E6D4F40D8FED29D77979FA04']},\n",
       " {'title': 'Physics of the Impossible: A Scientific Exploration into the World of Phasers, Force Fields, Teleportation, and Time Travel [1\\xa0ed.] 0385520697, 9780385520690',\n",
       "  'extension': 'pdf',\n",
       "  'links': ['http://books.ms/main/C50CCD9AE95C0F2ED5DA1429007C817B',\n",
       "   'http://libgen.li/ads.php?md5=C50CCD9AE95C0F2ED5DA1429007C817B']},\n",
       " {'title': 'Physics of the Impossible - A Scientific Exploration Into the World of Phasers, Force Fields, Teleportation, and Time Travel [Reprint\\xa0ed.] 9780307278821, 0307278824',\n",
       "  'extension': 'pdf',\n",
       "  'links': ['http://books.ms/main/B13679F6A337319C561EE0C16F74A053',\n",
       "   'http://libgen.li/ads.php?md5=B13679F6A337319C561EE0C16F74A053']},\n",
       " {'title': 'Physics of the Impossible: A Scientific Exploration into the World of Phasers, Force Fields, Teleportation, and Time Travel [1\\xa0ed.] 0385520697, 9780385520690',\n",
       "  'extension': 'pdf',\n",
       "  'links': ['http://books.ms/main/7F67C950EEB22F8A19A8F2C4AF10C51D',\n",
       "   'http://libgen.li/ads.php?md5=7F67C950EEB22F8A19A8F2C4AF10C51D']},\n",
       " {'title': 'Physics of the impossible : a scientific exploration into the world of phasers, force fields, teleportation, and time travel [1st ed] 9780385520690, 0385520697',\n",
       "  'extension': 'pdf',\n",
       "  'links': ['http://books.ms/main/C5A5646FB22820C8752014AFCE20749C',\n",
       "   'http://libgen.li/ads.php?md5=C5A5646FB22820C8752014AFCE20749C']},\n",
       " {'title': 'Physics of the Impossible: A Scientific Exploration into the World of Phasers, Force Fields, Teleportation, and Time Travel [Reprint\\xa0ed.] 0307278824, 9780307278821',\n",
       "  'extension': 'pdf',\n",
       "  'links': ['http://books.ms/main/38B6B408A39C62C167516E697EE89239',\n",
       "   'http://libgen.li/ads.php?md5=38B6B408A39C62C167516E697EE89239']},\n",
       " {'title': 'Physics of the Impossible: A Scientific Exploration into the World of Phasers, Force Fields, Teleportation, and Time Travel [1st\\xa0ed.] 0385520697, 978-0-385-52069-0',\n",
       "  'extension': 'pdf',\n",
       "  'links': ['http://books.ms/main/885437BA38370DED0DB1B9AE5E41E857',\n",
       "   'http://libgen.li/ads.php?md5=885437BA38370DED0DB1B9AE5E41E857']}]"
      ]
     },
     "execution_count": 15,
     "metadata": {},
     "output_type": "execute_result"
    }
   ],
   "source": [
    "links"
   ]
  },
  {
   "cell_type": "code",
   "execution_count": 16,
   "id": "9016d69e-50c6-435b-a3f2-d2e178ce0581",
   "metadata": {},
   "outputs": [],
   "source": [
    "from urllib.request import urlretrieve"
   ]
  },
  {
   "cell_type": "code",
   "execution_count": 29,
   "id": "f0d52467-1926-44ae-b577-3f8499e9b93d",
   "metadata": {},
   "outputs": [
    {
     "data": {
      "text/plain": [
       "('physics_of_the_impossible.pdf', <http.client.HTTPMessage at 0x7b88ff708320>)"
      ]
     },
     "execution_count": 29,
     "metadata": {},
     "output_type": "execute_result"
    }
   ],
   "source": [
    "urlretrieve(get_link, \"physics_of_the_impossible\" + \".pdf\")"
   ]
  },
  {
   "cell_type": "code",
   "execution_count": 18,
   "id": "f5e78e30-b886-401d-afb4-428296b63a97",
   "metadata": {},
   "outputs": [
    {
     "data": {
      "text/plain": [
       "'http://books.ms/main/18030181E6D4F40D8FED29D77979FA04'"
      ]
     },
     "execution_count": 18,
     "metadata": {},
     "output_type": "execute_result"
    }
   ],
   "source": [
    "links[0]['links'][0]"
   ]
  },
  {
   "cell_type": "code",
   "execution_count": 19,
   "id": "3255ea93-7d92-4b01-a8dc-e538afd47d54",
   "metadata": {},
   "outputs": [],
   "source": [
    "d_page = requests.get('http://books.ms/main/18030181E6D4F40D8FED29D77979FA04')"
   ]
  },
  {
   "cell_type": "code",
   "execution_count": 21,
   "id": "9cae7eb4-26ec-47e7-a976-bd5567d8e64a",
   "metadata": {},
   "outputs": [],
   "source": [
    "soup = BeautifulSoup(d_page.content, 'html.parser')"
   ]
  },
  {
   "cell_type": "code",
   "execution_count": 27,
   "id": "489ba82c-79c4-4a78-be8f-7ba5116a4b5d",
   "metadata": {},
   "outputs": [],
   "source": [
    "get_link = soup.find(\"a\", string=\"GET\")[\"href\"]"
   ]
  },
  {
   "cell_type": "code",
   "execution_count": 28,
   "id": "c1ebb4ec-3fbc-4451-9d43-b6f177185106",
   "metadata": {},
   "outputs": [
    {
     "data": {
      "text/plain": [
       "'https://download.books.ms/main/75000/18030181e6d4f40d8fed29d77979fa04/Michio%20Kaku%20-%20Physics%20of%20the%20impossible-Doubleday%20%282008%29.pdf'"
      ]
     },
     "execution_count": 28,
     "metadata": {},
     "output_type": "execute_result"
    }
   ],
   "source": [
    "get_link"
   ]
  },
  {
   "cell_type": "code",
   "execution_count": null,
   "id": "2019c6da-0d31-46a1-8c1d-85b0b25ddb43",
   "metadata": {},
   "outputs": [],
   "source": []
  }
 ],
 "metadata": {
  "kernelspec": {
   "display_name": "Python 3 (ipykernel)",
   "language": "python",
   "name": "python3"
  },
  "language_info": {
   "codemirror_mode": {
    "name": "ipython",
    "version": 3
   },
   "file_extension": ".py",
   "mimetype": "text/x-python",
   "name": "python",
   "nbconvert_exporter": "python",
   "pygments_lexer": "ipython3",
   "version": "3.12.9"
  }
 },
 "nbformat": 4,
 "nbformat_minor": 5
}
