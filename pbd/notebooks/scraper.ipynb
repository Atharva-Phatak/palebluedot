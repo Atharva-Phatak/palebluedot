{
 "cells": [
  {
   "cell_type": "code",
   "execution_count": 8,
   "id": "35080b54-0c38-48f2-aeaa-c23b18caa1d5",
   "metadata": {},
   "outputs": [],
   "source": [
    "from bs4 import BeautifulSoup\n",
    "import requests\n",
    "from urllib.request import urlretrieve"
   ]
  },
  {
   "cell_type": "code",
   "execution_count": 9,
   "id": "31556864-41d6-456d-8f90-5d022c61b6d1",
   "metadata": {},
   "outputs": [],
   "source": [
    "def get_libgen_url(book_name:str):\n",
    "    url = f\"https://libgen.is/search.php?&res=100&req={book_name}&phrase=1&view=simple&column=def&sort=year&sortmode=DESC\"\n",
    "    return url"
   ]
  },
  {
   "cell_type": "code",
   "execution_count": 16,
   "id": "fcbe1168-1cb9-4c57-9cc3-83fe3e622e43",
   "metadata": {},
   "outputs": [],
   "source": [
    "def extract_pdf_links(html_content):\n",
    "    \"\"\"\n",
    "    Extract download links for PDF versions of books from HTML table.\n",
    "    \n",
    "    Args:\n",
    "        html_content (str): HTML content containing the book table\n",
    "        \n",
    "    Returns:\n",
    "        list: List of dictionaries containing book title, extension, and download links\n",
    "    \"\"\"\n",
    "    # Parse the HTML\n",
    "    soup = BeautifulSoup(html_content, 'html.parser')\n",
    "    \n",
    "    # Find all rows in the table\n",
    "    rows = soup.find_all('tr', bgcolor=True)  # Using bgcolor attribute to find data rows\n",
    "    \n",
    "    # Store PDF links\n",
    "    pdf_links = []\n",
    "    \n",
    "    # Process each row\n",
    "    for row in rows:\n",
    "        # Extract file extension\n",
    "        extension_cell = row.find_all('td')[8]  # 9th column has the extension\n",
    "        extension = extension_cell.text.strip()\n",
    "        \n",
    "        # Only process PDF files\n",
    "        if extension == 'pdf':\n",
    "            # Extract book title\n",
    "            title_cell = row.find_all('td')[2]\n",
    "            title = title_cell.text.strip()\n",
    "            \n",
    "            # Extract download links\n",
    "            link_cells = row.find_all('td')[9:11]  # 10th and 11th columns have the download links\n",
    "            links = []\n",
    "            for link_cell in link_cells:\n",
    "                a_tag = link_cell.find('a')\n",
    "                if a_tag and 'href' in a_tag.attrs and (\"books.ms\" in a_tag['href']:\n",
    "                    links.append(a_tag['href'])\n",
    "                    break\n",
    "            \n",
    "            # Add to our results\n",
    "            pdf_links.append({\n",
    "                'title': title,\n",
    "                'extension': extension,\n",
    "                'links': links\n",
    "            })\n",
    "    \n",
    "    return pdf_links"
   ]
  },
  {
   "cell_type": "code",
   "execution_count": 17,
   "id": "edb0e6d3-a2c2-4dba-9e43-5574dd37a9f7",
   "metadata": {},
   "outputs": [],
   "source": [
    "def download_books(books_to_download:list):\n",
    "    for book in books_to_download:\n",
    "        html = requests.get(book.link)\n",
    "        soup = BeautifulSoup(html_content, 'html.parser')\n",
    "        download_link = soup.find(\"a\", string=\"GET\")[\"href\"]\n",
    "        urlretrieve(get_link, book.title + \".pdf\")\n",
    "        \n",
    "        "
   ]
  },
  {
   "cell_type": "code",
   "execution_count": 18,
   "id": "272aa414-df0b-473b-9e8d-f23b923de8bd",
   "metadata": {},
   "outputs": [],
   "source": [
    "url = get_libgen_url(book_name = \"Cosmos, Carl Sagan\")"
   ]
  },
  {
   "cell_type": "code",
   "execution_count": null,
   "id": "55fe22b4-65ea-48d5-9d7d-4f2b2a66fd47",
   "metadata": {},
   "outputs": [],
   "source": []
  },
  {
   "cell_type": "code",
   "execution_count": 19,
   "id": "c3aa8afe-c6da-4af2-9804-f75a475ac746",
   "metadata": {},
   "outputs": [],
   "source": [
    "search_page = requests.get(url)"
   ]
  },
  {
   "cell_type": "code",
   "execution_count": 20,
   "id": "0377a47e-0ac2-4ef9-8776-6ab556c1edae",
   "metadata": {},
   "outputs": [],
   "source": [
    "links = extract_pdf_links(search_page.content)"
   ]
  },
  {
   "cell_type": "code",
   "execution_count": 21,
   "id": "0ceca0cf-2a7c-4fcb-bc76-8a383d537941",
   "metadata": {},
   "outputs": [
    {
     "data": {
      "text/plain": [
       "[{'title': 'Cosmos 9789731114712, 9731114718',\n",
       "  'extension': 'pdf',\n",
       "  'links': ['http://books.ms/main/2A2963E0CADEED180A0EDA77C4540829',\n",
       "   'http://libgen.li/ads.php?md5=2A2963E0CADEED180A0EDA77C4540829']},\n",
       " {'title': 'Star Stuff: Carl Sagan and the Mysteries of the Cosmos 1596439602, 9781596439603',\n",
       "  'extension': 'pdf',\n",
       "  'links': ['http://books.ms/main/EA1AC2464E06E6366A35C628F3DE7A97',\n",
       "   'http://libgen.li/ads.php?md5=EA1AC2464E06E6366A35C628F3DE7A97']},\n",
       " {'title': 'Cosmos (Chinese Edition) 7206072070, 9787206072079',\n",
       "  'extension': 'pdf',\n",
       "  'links': ['http://books.ms/main/5E852C295701C0CC19A687F2C1F92859',\n",
       "   'http://libgen.li/ads.php?md5=5E852C295701C0CC19A687F2C1F92859']},\n",
       " {'title': 'Cosmos',\n",
       "  'extension': 'pdf',\n",
       "  'links': ['http://books.ms/main/421FC6E79FE0BB58D0AAA4C476AA9057',\n",
       "   'http://libgen.li/ads.php?md5=421FC6E79FE0BB58D0AAA4C476AA9057']},\n",
       " {'title': 'Cosmos 9780345331359, 0345331354',\n",
       "  'extension': 'pdf',\n",
       "  'links': ['http://books.ms/main/494AF965C8F206D07ACECFA10AD213C0',\n",
       "   'http://libgen.li/ads.php?md5=494AF965C8F206D07ACECFA10AD213C0']},\n",
       " {'title': 'Cosmos 9780345331359, 0345331354',\n",
       "  'extension': 'pdf',\n",
       "  'links': ['http://books.ms/main/BFC84621195D5E5806256DFD4490ACDF',\n",
       "   'http://libgen.li/ads.php?md5=BFC84621195D5E5806256DFD4490ACDF']},\n",
       " {'title': 'Cosmos 0345331354, 9780345331359',\n",
       "  'extension': 'pdf',\n",
       "  'links': ['http://books.ms/main/7FF5C578647447620AAE1852924E71D9',\n",
       "   'http://libgen.li/ads.php?md5=7FF5C578647447620AAE1852924E71D9']},\n",
       " {'title': 'Cosmos  (Spanish, full images)',\n",
       "  'extension': 'pdf',\n",
       "  'links': ['http://books.ms/main/7C7F72763ECF977466683C4F138D8D56',\n",
       "   'http://libgen.li/ads.php?md5=7C7F72763ECF977466683C4F138D8D56']},\n",
       " {'title': 'Cosmos [1\\xa0ed.] 0-394-50294-9',\n",
       "  'extension': 'pdf',\n",
       "  'links': ['http://books.ms/main/C112FD85A7BF2A76DEE5F89EF1EE4531',\n",
       "   'http://libgen.li/ads.php?md5=C112FD85A7BF2A76DEE5F89EF1EE4531']},\n",
       " {'title': 'Cosmos 9731114718',\n",
       "  'extension': 'pdf',\n",
       "  'links': ['http://books.ms/main/FDC331D48E5A547D2D2717C1359C6D08',\n",
       "   'http://libgen.li/ads.php?md5=FDC331D48E5A547D2D2717C1359C6D08']},\n",
       " {'title': 'Cosmos',\n",
       "  'extension': 'pdf',\n",
       "  'links': ['http://books.ms/main/AE438D9F02A85FF1DC1CD49293DCA686',\n",
       "   'http://libgen.li/ads.php?md5=AE438D9F02A85FF1DC1CD49293DCA686']},\n",
       " {'title': 'Cosmos',\n",
       "  'extension': 'pdf',\n",
       "  'links': ['http://books.ms/main/6674125DCC97FFB8065C887AA63FA2F1',\n",
       "   'http://libgen.li/ads.php?md5=6674125DCC97FFB8065C887AA63FA2F1']}]"
      ]
     },
     "execution_count": 21,
     "metadata": {},
     "output_type": "execute_result"
    }
   ],
   "source": [
    "links"
   ]
  },
  {
   "cell_type": "code",
   "execution_count": 1,
   "id": "9016d69e-50c6-435b-a3f2-d2e178ce0581",
   "metadata": {},
   "outputs": [],
   "source": [
    "from urllib.request import urlretrieve\n",
    "import requests"
   ]
  },
  {
   "cell_type": "code",
   "execution_count": 29,
   "id": "f0d52467-1926-44ae-b577-3f8499e9b93d",
   "metadata": {},
   "outputs": [
    {
     "data": {
      "text/plain": [
       "('physics_of_the_impossible.pdf', <http.client.HTTPMessage at 0x7b88ff708320>)"
      ]
     },
     "execution_count": 29,
     "metadata": {},
     "output_type": "execute_result"
    }
   ],
   "source": [
    "urlretrieve(get_link, \"physics_of_the_impossible\" + \".pdf\")"
   ]
  },
  {
   "cell_type": "code",
   "execution_count": 18,
   "id": "f5e78e30-b886-401d-afb4-428296b63a97",
   "metadata": {},
   "outputs": [
    {
     "data": {
      "text/plain": [
       "'http://books.ms/main/18030181E6D4F40D8FED29D77979FA04'"
      ]
     },
     "execution_count": 18,
     "metadata": {},
     "output_type": "execute_result"
    }
   ],
   "source": [
    "links[0]['links'][0]"
   ]
  },
  {
   "cell_type": "code",
   "execution_count": 2,
   "id": "3255ea93-7d92-4b01-a8dc-e538afd47d54",
   "metadata": {},
   "outputs": [],
   "source": [
    "d_page = requests.get('http://books.ms/main/421FC6E79FE0BB58D0AAA4C476AA9057')"
   ]
  },
  {
   "cell_type": "code",
   "execution_count": 5,
   "id": "9cae7eb4-26ec-47e7-a976-bd5567d8e64a",
   "metadata": {},
   "outputs": [],
   "source": [
    "soup = BeautifulSoup(d_page.content, 'html.parser')"
   ]
  },
  {
   "cell_type": "code",
   "execution_count": 6,
   "id": "489ba82c-79c4-4a78-be8f-7ba5116a4b5d",
   "metadata": {},
   "outputs": [],
   "source": [
    "get_link = soup.find(\"a\", string=\"GET\")[\"href\"]"
   ]
  },
  {
   "cell_type": "code",
   "execution_count": 7,
   "id": "c1ebb4ec-3fbc-4451-9d43-b6f177185106",
   "metadata": {},
   "outputs": [
    {
     "data": {
      "text/plain": [
       "'https://download.books.ms/main/1157000/421fc6e79fe0bb58d0aaa4c476aa9057/Carl%20Sagan%20-%20Cosmos-Gradiva%20%282001%29.pdf'"
      ]
     },
     "execution_count": 7,
     "metadata": {},
     "output_type": "execute_result"
    }
   ],
   "source": [
    "get_link"
   ]
  },
  {
   "cell_type": "code",
   "execution_count": null,
   "id": "2019c6da-0d31-46a1-8c1d-85b0b25ddb43",
   "metadata": {},
   "outputs": [],
   "source": []
  }
 ],
 "metadata": {
  "kernelspec": {
   "display_name": "Python 3 (ipykernel)",
   "language": "python",
   "name": "python3"
  },
  "language_info": {
   "codemirror_mode": {
    "name": "ipython",
    "version": 3
   },
   "file_extension": ".py",
   "mimetype": "text/x-python",
   "name": "python",
   "nbconvert_exporter": "python",
   "pygments_lexer": "ipython3",
   "version": "3.12.9"
  }
 },
 "nbformat": 4,
 "nbformat_minor": 5
}
